{
 "cells": [
  {
   "cell_type": "markdown",
   "metadata": {},
   "source": [
    "### An example MD simulation with a box of LJ particles.  \n",
    "**Authors: Zilin Song**\n",
    "\n",
    "#### 0. Imports."
   ]
  },
  {
   "cell_type": "code",
   "execution_count": 1,
   "metadata": {},
   "outputs": [],
   "source": [
    "import numpy as np\n",
    "\n",
    "import mdpy.box\n",
    "import mdpy.topology\n",
    "import mdpy.potentials\n",
    "import mdpy.system\n",
    "import mdpy.integrators"
   ]
  },
  {
   "cell_type": "markdown",
   "metadata": {},
   "source": [
    "#### 1. Basic elements of an MD simulation"
   ]
  },
  {
   "cell_type": "code",
   "execution_count": 2,
   "metadata": {},
   "outputs": [],
   "source": [
    "# elements of an MD system.\n",
    "box  = mdpy.box.PBCBox(xdim=50., ydim=50., zdim=50.)\n",
    "topo = mdpy.topology.HomogeneousIdealGas(num_particles=200, mass=1.)\n",
    "coor = box.wrap(coordinates=np.random.randn(200, 3)*100.)\n",
    "\n",
    "# The MD system.\n",
    "system = mdpy.system.System(box=box, topology=topo, coordinates=coor)\n",
    "system.add_potential(mdpy.potentials.LJ126(sigma=1., epsilon=1.))\n",
    "# The MD integrator.\n",
    "integrator = mdpy.integrators.LangevinIntegrator(system=system, timestep=.1, friction=5., temperature=300.)\n"
   ]
  },
  {
   "cell_type": "markdown",
   "metadata": {},
   "source": [
    "#### 2. The MD simulation with temperature monitoring."
   ]
  },
  {
   "cell_type": "code",
   "execution_count": 3,
   "metadata": {},
   "outputs": [
    {
     "name": "stdout",
     "output_type": "stream",
     "text": [
      "0 13631.130799530061\n",
      "1 5167.853258592498\n",
      "2 2106.7390390192536\n",
      "3 944.9044843565903\n",
      "4 489.31858519260345\n",
      "5 359.50688270008817\n",
      "6 325.2446719788039\n",
      "7 319.26113492396735\n",
      "8 313.0795331233594\n",
      "9 286.7505805027774\n",
      "10 297.2744123802687\n",
      "11 290.9823901807728\n",
      "12 276.11567147274917\n",
      "13 317.5296420887369\n",
      "14 306.6575255639732\n",
      "15 291.6381197747703\n",
      "16 282.9016856269055\n",
      "17 301.58697735868634\n",
      "18 408.70439361693894\n",
      "19 336.31619922070905\n",
      "20 323.8520193364765\n",
      "21 306.13719927367026\n",
      "22 314.23207439630175\n",
      "23 316.919945460261\n",
      "24 329.84294306193704\n",
      "25 310.8536378726797\n",
      "26 303.59541121997154\n",
      "27 303.2167519509289\n",
      "28 314.3217927220142\n",
      "29 294.9075709595274\n",
      "30 305.09888639953374\n",
      "31 306.73843640201693\n",
      "32 320.8681065082952\n",
      "33 327.24653256313104\n",
      "34 310.0628976881034\n",
      "35 303.35104013664466\n",
      "36 303.23279579040366\n",
      "37 291.6533762026022\n",
      "38 271.9774606456652\n",
      "39 286.98094155502605\n",
      "40 291.8893415369483\n",
      "41 290.33552780422025\n",
      "42 308.72370229999245\n",
      "43 306.1036008433292\n",
      "44 307.08262514426974\n",
      "45 364.8359064214679\n",
      "46 416.14705499057015\n",
      "47 318.98560968183085\n",
      "48 299.50372371220084\n",
      "49 288.5262712972584\n"
     ]
    }
   ],
   "source": [
    "# initialize velocities at 300 K\n",
    "integrator.initialize_velocities(temperature=300.)\n",
    "trajectory = []\n",
    "\n",
    "# integrate for 200 steps.\n",
    "for _ in range(50):\n",
    "  integrator.step(); print(_, integrator.compute_temperature())\n",
    "  trajectory.append(box.wrap(integrator.system.coordinates))"
   ]
  },
  {
   "cell_type": "code",
   "execution_count": 4,
   "metadata": {},
   "outputs": [
    {
     "data": {
      "application/vnd.jupyter.widget-view+json": {
       "model_id": "709078a8415b4ea1a716c06df562dab4",
       "version_major": 2,
       "version_minor": 0
      },
      "text/plain": []
     },
     "metadata": {},
     "output_type": "display_data"
    },
    {
     "data": {
      "application/vnd.jupyter.widget-view+json": {
       "model_id": "e046dd636770493c83614d8fc1fa942f",
       "version_major": 2,
       "version_minor": 0
      },
      "text/plain": [
       "NGLWidget(max_frame=49)"
      ]
     },
     "metadata": {},
     "output_type": "display_data"
    }
   ],
   "source": [
    "import mdtraj\n",
    "import nglview\n",
    "\n",
    "traj = mdtraj.Trajectory(xyz=np.asarray(trajectory), topology=system.topology.as_mdtraj())\n",
    "view = nglview.show_mdtraj(traj)\n",
    "view.add_ball_and_stick('all', radius=10.)\n",
    "view"
   ]
  }
 ],
 "metadata": {
  "kernelspec": {
   "display_name": "mdpy",
   "language": "python",
   "name": "python3"
  },
  "language_info": {
   "codemirror_mode": {
    "name": "ipython",
    "version": 3
   },
   "file_extension": ".py",
   "mimetype": "text/x-python",
   "name": "python",
   "nbconvert_exporter": "python",
   "pygments_lexer": "ipython3",
   "version": "3.13.3"
  }
 },
 "nbformat": 4,
 "nbformat_minor": 2
}
