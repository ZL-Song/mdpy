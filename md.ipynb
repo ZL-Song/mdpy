{
 "cells": [
  {
   "cell_type": "markdown",
   "metadata": {},
   "source": [
    "### An example MD simulation with a box of LJ particles.  \n",
    "**Authors: Zilin Song**\n",
    "\n",
    "#### 0. Imports."
   ]
  },
  {
   "cell_type": "code",
   "execution_count": null,
   "metadata": {},
   "outputs": [],
   "source": [
    "import numpy as np\n",
    "\n",
    "import mdpy.box\n",
    "import mdpy.system\n",
    "import mdpy.potentials\n",
    "import mdpy.integrators"
   ]
  },
  {
   "cell_type": "markdown",
   "metadata": {},
   "source": [
    "#### 1. Basic elements of an MD simulation"
   ]
  },
  {
   "cell_type": "code",
   "execution_count": null,
   "metadata": {},
   "outputs": [],
   "source": [
    "# elements of an MD system.\n",
    "box = mdpy.box.PBCBox(xdim=100., ydim=100., zdim=100.)\n",
    "masses = np.ones((300, ))*1.\n",
    "coords = box.wrap(coordinates=np.random.rand(300, 3)*100.)\n",
    "# The MD system.\n",
    "system = mdpy.system.System(box=box, masses=masses, coordinates=coords)\n",
    "system.add_potential(mdpy.potentials.LJ126(sigma=1., epsilon=1.))\n",
    "# The MD integrator.\n",
    "integrator = mdpy.integrators.LangevinIntegrator(system=system, timestep=.001, friction=5., temperature=300.)\n"
   ]
  },
  {
   "cell_type": "markdown",
   "metadata": {},
   "source": [
    "#### 2. The MD simulation with temperature monitoring."
   ]
  },
  {
   "cell_type": "code",
   "execution_count": null,
   "metadata": {},
   "outputs": [],
   "source": [
    "# initialize velocities at 300 K\n",
    "integrator.initialize_velocities(temperature=300.)\n",
    "\n",
    "# integrator for 2000 steps.\n",
    "for _ in range(2000):\n",
    "  integrator.step(); print(_, integrator.compute_temperature())"
   ]
  }
 ],
 "metadata": {
  "kernelspec": {
   "display_name": "torch",
   "language": "python",
   "name": "python3"
  },
  "language_info": {
   "codemirror_mode": {
    "name": "ipython",
    "version": 3
   },
   "file_extension": ".py",
   "mimetype": "text/x-python",
   "name": "python",
   "nbconvert_exporter": "python",
   "pygments_lexer": "ipython3",
   "version": "3.12.8"
  }
 },
 "nbformat": 4,
 "nbformat_minor": 2
}
