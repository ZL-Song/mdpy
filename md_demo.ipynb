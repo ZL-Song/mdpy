{
 "cells": [
  {
   "cell_type": "markdown",
   "metadata": {},
   "source": [
    "### An example MD simulation with a box of LJ particles.  \n",
    "**Authors: Zilin Song**\n",
    "\n",
    "#### 0. Imports."
   ]
  },
  {
   "cell_type": "code",
   "execution_count": null,
   "metadata": {},
   "outputs": [],
   "source": [
    "import numpy as np\n",
    "\n",
    "import mdpy.box\n",
    "import mdpy.topology\n",
    "import mdpy.potentials\n",
    "import mdpy.system\n",
    "import mdpy.integrators"
   ]
  },
  {
   "cell_type": "markdown",
   "metadata": {},
   "source": [
    "#### 1. Basic elements of an MD simulation"
   ]
  },
  {
   "cell_type": "code",
   "execution_count": null,
   "metadata": {},
   "outputs": [],
   "source": [
    "# elements of an MD system.\n",
    "box         = mdpy.box.PBCBox(xdim=50., ydim=50., zdim=50.)\n",
    "topology    = mdpy.topology.HomogeneousIdealGas(num_particles=200, mass=1.)\n",
    "coordinates = box.wrap(coordinates=np.random.randn(200, 3)*100.)\n",
    "\n",
    "# The MD system.\n",
    "system = mdpy.system.System(box=box, topology=topology, coordinates=coordinates)\n",
    "system.add_potential(mdpy.potentials.LJ126(sigma=1., epsilon=1.))\n",
    "\n",
    "# The MD integrator.\n",
    "integrator = mdpy.integrators.LangevinIntegrator(system=system, timestep=.05, friction=5., temperature=300.)"
   ]
  },
  {
   "cell_type": "markdown",
   "metadata": {},
   "source": [
    "#### 2. The MD simulation with temperature monitoring."
   ]
  },
  {
   "cell_type": "code",
   "execution_count": null,
   "metadata": {},
   "outputs": [],
   "source": [
    "# initialize velocities at 300 K\n",
    "integrator.initialize_velocities(temperature=300.)\n",
    "trajectory = []\n",
    "\n",
    "# integrate for 200 steps.\n",
    "for i in range(500):\n",
    "  integrator.step()\n",
    "\n",
    "  # record the trajectory every 5 steps.\n",
    "  if i % 10 == 0:\n",
    "    print(f\"Current step: {i+1}, temperature {integrator.compute_temperature():8.4f} K.\")\n",
    "    trajectory.append(box.wrap(integrator.system.coordinates))"
   ]
  },
  {
   "cell_type": "code",
   "execution_count": null,
   "metadata": {},
   "outputs": [],
   "source": [
    "import mdtraj\n",
    "import nglview\n",
    "\n",
    "traj = mdtraj.Trajectory(xyz=np.asarray(trajectory), topology=system.topology.as_mdtraj())\n",
    "view = nglview.show_mdtraj(traj)\n",
    "view.add_ball_and_stick('all', radius=20.)\n",
    "view"
   ]
  }
 ],
 "metadata": {
  "kernelspec": {
   "display_name": "mdpy",
   "language": "python",
   "name": "python3"
  },
  "language_info": {
   "codemirror_mode": {
    "name": "ipython",
    "version": 3
   },
   "file_extension": ".py",
   "mimetype": "text/x-python",
   "name": "python",
   "nbconvert_exporter": "python",
   "pygments_lexer": "ipython3",
   "version": "3.13.3"
  }
 },
 "nbformat": 4,
 "nbformat_minor": 2
}
